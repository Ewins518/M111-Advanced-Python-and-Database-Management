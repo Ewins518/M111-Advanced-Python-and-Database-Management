{
 "cells": [
  {
   "cell_type": "markdown",
   "id": "3bf3292a",
   "metadata": {},
   "source": [
    "### Exercice:\n",
    "\n",
    "Scraping weather forecase from the The Weather Channel website `weather.com` using `requests` and `BeautifulSoup` libraries.\n",
    "\n",
    "1. Implement a scraping script for getting 10 days weather forecasts of Benguerir city and Tanger City.\n",
    "2. Store the data sets into Pandas DataFrame.\n",
    "3. Use matplotlib library to plot the raining days of the two cities in the same figure.  \n"
   ]
  },
  {
   "cell_type": "code",
   "execution_count": 42,
   "id": "e2008bdb",
   "metadata": {},
   "outputs": [],
   "source": [
    "import requests\n",
    "from bs4 import BeautifulSoup\n",
    "import pandas as pd\n",
    "import matplotlib.pyplot as plt\n"
   ]
  },
  {
   "cell_type": "code",
   "execution_count": 26,
   "id": "2601da4a",
   "metadata": {},
   "outputs": [],
   "source": [
    "benguerir_url = \"https://weather.com/weather/tenday/l/Benguerir+Morocco+MAXX0004:1:MA\"\n",
    "tanger_url = \"https://weather.com/weather/tenday/l/Tanger+Tanger-Tetouan-Al+Hoceima+Morocco+MAXX0107:1:MA\"\n",
    "\n",
    "benguerir_html = requests.get(benguerir_url).content\n",
    "tanger_html = requests.get(tanger_url).content"
   ]
  },
  {
   "cell_type": "code",
   "execution_count": 22,
   "id": "c0c4e988",
   "metadata": {},
   "outputs": [],
   "source": [
    "weather_data = pd.DataFrame(columns=[\"date\", \"time\", \"temperature\", \"description\"])"
   ]
  },
  {
   "cell_type": "code",
   "execution_count": 56,
   "id": "a80d8d1c",
   "metadata": {},
   "outputs": [
    {
     "name": "stdout",
     "output_type": "stream",
     "text": [
      "content  None\n"
     ]
    },
    {
     "ename": "TypeError",
     "evalue": "'NoneType' object is not iterable",
     "output_type": "error",
     "traceback": [
      "\u001b[0;31m---------------------------------------------------------------------------\u001b[0m",
      "\u001b[0;31mTypeError\u001b[0m                                 Traceback (most recent call last)",
      "\u001b[0;32m/tmp/ipykernel_6964/3857090869.py\u001b[0m in \u001b[0;36m<module>\u001b[0;34m\u001b[0m\n\u001b[1;32m     15\u001b[0m \u001b[0mcontent\u001b[0m \u001b[0;34m=\u001b[0m \u001b[0mbenguerir_soup\u001b[0m\u001b[0;34m.\u001b[0m\u001b[0mfind\u001b[0m\u001b[0;34m(\u001b[0m\u001b[0mclass_\u001b[0m\u001b[0;34m=\u001b[0m\u001b[0;34m\"temp\"\u001b[0m\u001b[0;34m)\u001b[0m\u001b[0;34m\u001b[0m\u001b[0;34m\u001b[0m\u001b[0m\n\u001b[1;32m     16\u001b[0m \u001b[0mprint\u001b[0m\u001b[0;34m(\u001b[0m\u001b[0;34m\"content \"\u001b[0m\u001b[0;34m,\u001b[0m\u001b[0mcontent\u001b[0m\u001b[0;34m)\u001b[0m\u001b[0;34m\u001b[0m\u001b[0;34m\u001b[0m\u001b[0m\n\u001b[0;32m---> 17\u001b[0;31m \u001b[0;32mfor\u001b[0m \u001b[0mitems\u001b[0m \u001b[0;32min\u001b[0m \u001b[0mcontent\u001b[0m\u001b[0;34m:\u001b[0m\u001b[0;34m\u001b[0m\u001b[0;34m\u001b[0m\u001b[0m\n\u001b[0m\u001b[1;32m     18\u001b[0m \u001b[0;34m\u001b[0m\u001b[0m\n\u001b[1;32m     19\u001b[0m     \u001b[0;32mfor\u001b[0m \u001b[0mi\u001b[0m \u001b[0;32min\u001b[0m \u001b[0mrange\u001b[0m\u001b[0;34m(\u001b[0m\u001b[0mlen\u001b[0m\u001b[0;34m(\u001b[0m\u001b[0mitems\u001b[0m\u001b[0;34m.\u001b[0m\u001b[0mfind_all\u001b[0m\u001b[0;34m(\u001b[0m\u001b[0;34m\"tr\"\u001b[0m\u001b[0;34m)\u001b[0m\u001b[0;34m)\u001b[0m\u001b[0;34m-\u001b[0m\u001b[0;36m1\u001b[0m\u001b[0;34m)\u001b[0m\u001b[0;34m:\u001b[0m\u001b[0;34m\u001b[0m\u001b[0;34m\u001b[0m\u001b[0m\n",
      "\u001b[0;31mTypeError\u001b[0m: 'NoneType' object is not iterable"
     ]
    }
   ],
   "source": [
    "benguerir_soup = BeautifulSoup(benguerir_html, \"html.parser\")\n",
    "tanger_soup = BeautifulSoup(tanger_html, \"html.parser\")\n",
    "\n",
    "benguerir_forecast_data = benguerir_soup.find_all(\"span\", class_=\"description\")\n",
    "benguerir_temperature_data = benguerir_soup.find_all(\"td\", class_=\"temp\")\n",
    "\n",
    "\n",
    "tanger_forecast_data = tanger_soup.find_all(\"span\", class_=\"description\")\n",
    "tanger_temperature_data = tanger_soup.find_all(\"td\", class_=\"temp\")\n",
    "\n",
    "list_benguerir =[]\n",
    "#all = soup.find(\"div\", {\"class\":\"locations-title ten-day-page-title\"}).find(\"h1\").text\n",
    "\n",
    "content = benguerir_soup.find_all(\"table\", {\"class\":\"twc-table\"})\n",
    "print(\"content \",content)\n",
    "for items in content:\n",
    "    \n",
    "    for i in range(len(items.find_all(\"tr\"))-1):\n",
    "        dict = {}\n",
    "        try:\n",
    "            \n",
    "            dict[\"day\"]= items.find_all(\"span\", {\"class\":\"date-time\"})[i].text\n",
    "            dict[\"date\"]= items.find_all(\"span\", {\"class\":\"day-detail\"})[i].text\n",
    "            dict[\"desc\"]= items.find_all(\"td\", {\"class\":\"description\"})[i].text\n",
    "            dict[\"temp\"]= items.find_all(\"td\", {\"class\":\"temp\"})[i].text\n",
    "            dict[\"precip\"]= items.find_all(\"td\", {\"class\":\"precip\"})[i].text\n",
    "            dict[\"wind\"]= items.find_all(\"td\", {\"class\":\"wind\"})[i].text\n",
    "            dict[\"humidity\"]= items.find_all(\"td\", {\"class\":\"humidity\"})[i].text\n",
    "        except:\n",
    "\n",
    "            dict[\"day\"]=\"None\"\n",
    "            dict[\"date\"]=\"None\"\n",
    "            dict[\"desc\"]=\"None\"\n",
    "            dict[\"temp\"]=\"None\"\n",
    "            dict[\"precip\"]=\"None\"\n",
    "            dict[\"wind\"]=\"None\"\n",
    "            dict[\"humidity\"]=\"None\"\n",
    "\n",
    "        list_benguerir.append(dict)\n",
    "\n",
    "\n",
    "data = pd.DataFrame(list_benguerir)\n",
    "data.head()\n"
   ]
  },
  {
   "cell_type": "code",
   "execution_count": 40,
   "id": "ae5ca2a8",
   "metadata": {},
   "outputs": [
    {
     "name": "stdout",
     "output_type": "stream",
     "text": [
      "Empty DataFrame\n",
      "Columns: [date, time, temperature, description]\n",
      "Index: []\n"
     ]
    }
   ],
   "source": [
    "print(weather_data)"
   ]
  },
  {
   "cell_type": "code",
   "execution_count": 41,
   "id": "6077f40c",
   "metadata": {},
   "outputs": [
    {
     "data": {
      "image/png": "[encoded data removed]",
      "text/plain": [
       "<Figure size 640x480 with 1 Axes>"
      ]
     },
     "metadata": {},
     "output_type": "display_data"
    }
   ],
   "source": [
    "benguerir_rain_data = weather_data.loc[weather_data[\"description\"].str.contains(\"Rain\")]\n",
    "\n",
    "benguerir_rain_count = benguerir_rain_data.count()\n",
    "\n",
    "benguerir_rain_count.plot(kind=\"line\")\n",
    "\n",
    "tanger_rain_data = weather_data.loc[weather_data[\"description\"].str.contains(\"Rain\")]\n",
    "\n",
    "tanger_rain_count = tanger_rain_data.count()\n",
    "\n",
    "tanger_rain_count.plot(kind=\"line\")\n",
    "\n",
    "benguerir_rain_count.plot(kind=\"line\", label=\"Benguerir\")\n",
    "tanger_rain_count.plot(kind=\"line\", label=\"Tanger\")\n",
    "\n",
    "plt.xlabel(\"Days\")\n",
    "plt.ylabel(\"Number of raining days\")\n",
    "plt.legend()\n",
    "\n",
    "plt.show()\n"
   ]
  },
  {
   "cell_type": "code",
   "execution_count": null,
   "id": "3700667d",
   "metadata": {},
   "outputs": [],
   "source": []
  }
 ],
 "metadata": {
  "kernelspec": {
   "display_name": "Python 3 (ipykernel)",
   "language": "python",
   "name": "python3"
  },
  "language_info": {
   "codemirror_mode": {
    "name": "ipython",
    "version": 3
   },
   "file_extension": ".py",
   "mimetype": "text/x-python",
   "name": "python",
   "nbconvert_exporter": "python",
   "pygments_lexer": "ipython3",
   "version": "3.9.13"
  }
 },
 "nbformat": 4,
 "nbformat_minor": 5
}
