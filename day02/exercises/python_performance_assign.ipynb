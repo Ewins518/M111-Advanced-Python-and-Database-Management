{
 "cells": [
  {
   "cell_type": "markdown",
   "id": "09127981",
   "metadata": {},
   "source": [
    "<h1 align=\"center\">Python performance exercises</h1>"
   ]
  },
  {
   "cell_type": "markdown",
   "id": "aec3b2e9",
   "metadata": {},
   "source": [
    "## Python best practices exercises"
   ]
  },
  {
   "cell_type": "markdown",
   "id": "ad5ba6f1",
   "metadata": {},
   "source": [
    "### Exercise 1\n",
    "\n",
    "considering the following function for concatenating list strings with deliter."
   ]
  },
  {
   "cell_type": "code",
   "execution_count": 24,
   "id": "9754d772",
   "metadata": {},
   "outputs": [],
   "source": [
    "def ft_concatenate(l_strings, d):\n",
    "    \"\"\"concatenate list of strings into one string separated by delimeter\"\"\"\n",
    "    res = l_strings[0]\n",
    "    for e in l_strings[1:]:\n",
    "        res = res + d + e\n",
    "    return res"
   ]
  },
  {
   "cell_type": "markdown",
   "id": "9b9e451b",
   "metadata": {},
   "source": [
    "- profile the function and identify the bottlenecks.\n",
    "- improve speed up of the function\n",
    "*Hint: you may need to look to the string functions in python documentation*"
   ]
  },
  {
   "cell_type": "code",
   "execution_count": 28,
   "id": "1f0ded92",
   "metadata": {},
   "outputs": [
    {
     "name": "stdout",
     "output_type": "stream",
     "text": [
      " "
     ]
    }
   ],
   "source": [
    "%prun ft_concatenate([\"Go\", \"TO\", \"School\"], \"|\")"
   ]
  },
  {
   "cell_type": "code",
   "execution_count": 6,
   "id": "c4f44155",
   "metadata": {},
   "outputs": [
    {
     "name": "stdout",
     "output_type": "stream",
     "text": [
      "362 ns ± 3.16 ns per loop (mean ± std. dev. of 7 runs, 1000000 loops each)\n"
     ]
    }
   ],
   "source": [
    "%%timeit \n",
    "\n",
    "ft_concatenate([\"Go\", \"TO\", \"School\"], \"|\")"
   ]
  },
  {
   "cell_type": "code",
   "execution_count": 33,
   "id": "82bc9e24",
   "metadata": {},
   "outputs": [],
   "source": [
    "%lprun -f ft_concatenate ft_concatenate([\"Go\", \"TO\", \"School\"], \"|\")"
   ]
  },
  {
   "cell_type": "code",
   "execution_count": 63,
   "id": "9921bfea",
   "metadata": {},
   "outputs": [],
   "source": [
    "%load_ext line_profiler"
   ]
  },
  {
   "cell_type": "code",
   "execution_count": 15,
   "id": "781a5b2c",
   "metadata": {},
   "outputs": [],
   "source": [
    "def ft_concatenate2(l_strings, d):\n",
    "    \"\"\"concatenate list of strings into one string separated by delimeter\"\"\"\n",
    "    return d.join(l_strings)"
   ]
  },
  {
   "cell_type": "code",
   "execution_count": 16,
   "id": "99e5e2b8",
   "metadata": {},
   "outputs": [
    {
     "name": "stdout",
     "output_type": "stream",
     "text": [
      "154 ns ± 1.54 ns per loop (mean ± std. dev. of 7 runs, 10000000 loops each)\n"
     ]
    }
   ],
   "source": [
    "%%timeit \n",
    "\n",
    "ft_concatenate2([\"Go\", \"TO\", \"School\"], \"|\")"
   ]
  },
  {
   "cell_type": "code",
   "execution_count": 17,
   "id": "7aec146a",
   "metadata": {},
   "outputs": [
    {
     "data": {
      "text/plain": [
       "'Go|TO|School'"
      ]
     },
     "execution_count": 17,
     "metadata": {},
     "output_type": "execute_result"
    }
   ],
   "source": [
    "ft_concatenate2([\"Go\", \"TO\", \"School\"], \"|\")"
   ]
  },
  {
   "cell_type": "code",
   "execution_count": 19,
   "id": "f11cb5e4",
   "metadata": {},
   "outputs": [
    {
     "name": "stdout",
     "output_type": "stream",
     "text": [
      "peak memory: 117.15 MiB, increment: 0.00 MiB\n"
     ]
    }
   ],
   "source": [
    "%memit ft_concatenate2([\"Go\", \"TO\", \"School\"], \"|\")"
   ]
  },
  {
   "cell_type": "code",
   "execution_count": 31,
   "id": "be472bd7",
   "metadata": {},
   "outputs": [],
   "source": [
    "%lprun -f ft_concatenate2 ft_concatenate2([\"Go\", \"TO\", \"School\"], \"|\")"
   ]
  },
  {
   "cell_type": "markdown",
   "id": "9d3a9357",
   "metadata": {},
   "source": [
    "### Exercise 2\n",
    "\n",
    "In this exercise you will solve the following problem using two methods bruteforce mehode, and fast method.\n",
    "\n",
    "**Problem:** You are given a list of n integers, and your task is to calculate the number of distinct values in the list.\n",
    "\n",
    "**Example**\n",
    "- Input:\n",
    "5\n",
    "2 3 2 2 3\n",
    "\n",
    "- Output:\n",
    "2\n",
    "\n",
    "**Implement the following methodes:**\n",
    "\n",
    "1. **bruteforce mehode:** create an empty list and start adding items for the given list without adding the previous item add, at the end the result list will contain unique values, print lenght of the list and you are done. \n",
    "2. **fast method** think of using Set data structure.\n",
    "\n",
    "- time the two methods, what do you think?"
   ]
  },
  {
   "cell_type": "code",
   "execution_count": 14,
   "id": "68624c30",
   "metadata": {},
   "outputs": [],
   "source": [
    "# bruteforce fast method\n",
    "def number_distinct_brute(l):\n",
    "    res = []\n",
    "    \n",
    "    for i in l: \n",
    "        if i not in res:\n",
    "            res.append(i)\n",
    "    return len(res)"
   ]
  },
  {
   "cell_type": "code",
   "execution_count": 15,
   "id": "8dc2ea1b",
   "metadata": {},
   "outputs": [
    {
     "data": {
      "text/plain": [
       "3"
      ]
     },
     "execution_count": 15,
     "metadata": {},
     "output_type": "execute_result"
    }
   ],
   "source": [
    "number_distinct_brute([5,2,3,2,2,3])"
   ]
  },
  {
   "cell_type": "code",
   "execution_count": 16,
   "id": "8be59e6b",
   "metadata": {},
   "outputs": [],
   "source": [
    "# write fast method\n",
    "def number_distinct_fast(l):\n",
    "    s = set(l)\n",
    "    return len(s)"
   ]
  },
  {
   "cell_type": "code",
   "execution_count": 17,
   "id": "7f2bc4d6",
   "metadata": {},
   "outputs": [
    {
     "data": {
      "text/plain": [
       "3"
      ]
     },
     "execution_count": 17,
     "metadata": {},
     "output_type": "execute_result"
    }
   ],
   "source": [
    "number_distinct_fast([5,2,3,2,2,3])"
   ]
  },
  {
   "cell_type": "code",
   "execution_count": 22,
   "id": "15131d55",
   "metadata": {},
   "outputs": [
    {
     "name": "stdout",
     "output_type": "stream",
     "text": [
      "CPU times: user 110 µs, sys: 0 ns, total: 110 µs\n",
      "Wall time: 113 µs\n",
      "CPU times: user 20 µs, sys: 0 ns, total: 20 µs\n",
      "Wall time: 23.4 µs\n"
     ]
    },
    {
     "data": {
      "text/plain": [
       "10"
      ]
     },
     "execution_count": 22,
     "metadata": {},
     "output_type": "execute_result"
    }
   ],
   "source": [
    "# Creat two random lists of numbers for testing\n",
    "import random\n",
    "\n",
    "rand_list=[]\n",
    "n=1000\n",
    "for i in range(n):\n",
    "    rand_list.append(random.randint(0,9))\n",
    "\n",
    "# time the two methods\n",
    "\n",
    "%time number_distinct_brute(rand_list)\n",
    "%time number_distinct_fast(rand_list)"
   ]
  },
  {
   "cell_type": "markdown",
   "id": "6eba67a7",
   "metadata": {},
   "source": [
    "Using python methods is faster"
   ]
  },
  {
   "cell_type": "markdown",
   "id": "e53c0d53",
   "metadata": {},
   "source": [
    "## Cython exercises"
   ]
  },
  {
   "cell_type": "markdown",
   "id": "b33cb080",
   "metadata": {},
   "source": [
    "### Exercise 1"
   ]
  },
  {
   "cell_type": "markdown",
   "id": "985c05fd",
   "metadata": {},
   "source": [
    "1. load the cython extension."
   ]
  },
  {
   "cell_type": "code",
   "execution_count": 23,
   "id": "2c930dff",
   "metadata": {},
   "outputs": [],
   "source": [
    "%load_ext cython"
   ]
  },
  {
   "cell_type": "markdown",
   "id": "ddd4b46e",
   "metadata": {},
   "source": [
    "2. Condidering the following polynome function:"
   ]
  },
  {
   "cell_type": "code",
   "execution_count": 27,
   "id": "23fa41c6",
   "metadata": {},
   "outputs": [],
   "source": [
    "def poly(a,b):\n",
    "    return 10.5 * a + 3 * (b**2)"
   ]
  },
  {
   "cell_type": "markdown",
   "id": "6f9749a2",
   "metadata": {},
   "source": [
    "- Create an equivalent Cython function of `poly` with name `poly_cy` without any cython improvement, just make its cell a cython cell."
   ]
  },
  {
   "cell_type": "markdown",
   "id": "20bc5a46",
   "metadata": {},
   "source": [
    "\n"
   ]
  },
  {
   "cell_type": "markdown",
   "id": "75ebbe8b",
   "metadata": {},
   "source": [
    "3. time the performance of Python and Cython version of the function, what is the factor of speed up here between the two verions."
   ]
  },
  {
   "cell_type": "code",
   "execution_count": 53,
   "id": "2f5373a0",
   "metadata": {},
   "outputs": [],
   "source": [
    "%%cython\n",
    "\n",
    "def poly_cy(double a, double b):\n",
    "    return 10.5 * a + 3 * (b**2)"
   ]
  },
  {
   "cell_type": "code",
   "execution_count": 54,
   "id": "457c576e",
   "metadata": {},
   "outputs": [
    {
     "name": "stdout",
     "output_type": "stream",
     "text": [
      "CPU times: user 3 µs, sys: 0 ns, total: 3 µs\n",
      "Wall time: 7.87 µs\n",
      "CPU times: user 5 µs, sys: 0 ns, total: 5 µs\n",
      "Wall time: 8.11 µs\n"
     ]
    },
    {
     "data": {
      "text/plain": [
       "100.5"
      ]
     },
     "execution_count": 54,
     "metadata": {},
     "output_type": "execute_result"
    }
   ],
   "source": [
    "%time poly_cy(5,4)\n",
    "%time poly(5,4)"
   ]
  },
  {
   "cell_type": "markdown",
   "id": "a7bcb144",
   "metadata": {},
   "source": [
    "`The factor of speed up here between the two vesions is that cython compile the python with C compiler which is faster than simply python`"
   ]
  },
  {
   "cell_type": "markdown",
   "id": "ecee1aef",
   "metadata": {},
   "source": [
    "4. Now lets work on another examples using loop.\n",
    "    - rewrite the same function below fib that calculate fibonacci series using cython, but now try to add type for the variables used inside it, add a prefix `_cy` to your new cython function."
   ]
  },
  {
   "cell_type": "code",
   "execution_count": 35,
   "id": "b8575981",
   "metadata": {},
   "outputs": [],
   "source": [
    "def fib(n):\n",
    "    a, b = 1, 1\n",
    "    for i in range(n):\n",
    "        a, b = a + b, a\n",
    "\n",
    "    return a"
   ]
  },
  {
   "cell_type": "code",
   "execution_count": 33,
   "id": "13b2da9f",
   "metadata": {},
   "outputs": [],
   "source": [
    "%%cython\n",
    "def fib_cy(int n):\n",
    "    cdef int a = 1, b = 1;\n",
    "    for i in range(n):\n",
    "        a, b = a + b, a\n",
    "\n",
    "    return a"
   ]
  },
  {
   "cell_type": "markdown",
   "id": "8b9eb0e4",
   "metadata": {},
   "source": [
    "- time the two function for fibonacci series, with n = 20, what is the factor of speed now, What do you think?"
   ]
  },
  {
   "cell_type": "code",
   "execution_count": 39,
   "id": "fb3ab6f7",
   "metadata": {},
   "outputs": [
    {
     "name": "stdout",
     "output_type": "stream",
     "text": [
      "CPU times: user 10 µs, sys: 1 µs, total: 11 µs\n",
      "Wall time: 16.5 µs\n",
      "CPU times: user 5 µs, sys: 1 µs, total: 6 µs\n",
      "Wall time: 7.87 µs\n"
     ]
    },
    {
     "data": {
      "text/plain": [
       "17711"
      ]
     },
     "execution_count": 39,
     "metadata": {},
     "output_type": "execute_result"
    }
   ],
   "source": [
    "%time fib(20)\n",
    "%time fib_cy(20)"
   ]
  },
  {
   "cell_type": "markdown",
   "id": "c874b1c2",
   "metadata": {},
   "source": [
    "5. Recursive functions are functions that call themselves during their execution. Another interesting property of the Fibonacci series is that it can be written as a recursive function. That’s because each item depends on the values of other items (namely item n-1 and item n-2)\n",
    "\n",
    "- Rewrite the fib function using recursion. Is it faster than the non-recursive version? Does Cythonizing it give even more of an advantage? "
   ]
  },
  {
   "cell_type": "code",
   "execution_count": 51,
   "id": "e05d16a9",
   "metadata": {},
   "outputs": [],
   "source": [
    "def fib_recur(n):\n",
    "    if n in {0, 1}:\n",
    "        return n\n",
    "    else:\n",
    "        return(fib_recur(n-1) + fib_recur(n-2))"
   ]
  },
  {
   "cell_type": "code",
   "execution_count": 57,
   "id": "2aa51d8c",
   "metadata": {},
   "outputs": [
    {
     "name": "stdout",
     "output_type": "stream",
     "text": [
      "CPU times: user 6.25 ms, sys: 0 ns, total: 6.25 ms\n",
      "Wall time: 6.48 ms\n",
      "CPU times: user 11 µs, sys: 0 ns, total: 11 µs\n",
      "Wall time: 14.8 µs\n"
     ]
    },
    {
     "data": {
      "text/plain": [
       "17711"
      ]
     },
     "execution_count": 57,
     "metadata": {},
     "output_type": "execute_result"
    }
   ],
   "source": [
    "%time fib_recur(20)\n",
    "%time fib(20)"
   ]
  },
  {
   "cell_type": "markdown",
   "id": "b4a401ec",
   "metadata": {},
   "source": [
    "`Well, it turns out that recursion looks clever, but works much worse`"
   ]
  },
  {
   "cell_type": "code",
   "execution_count": null,
   "id": "0fb8bc6f",
   "metadata": {},
   "outputs": [],
   "source": []
  },
  {
   "cell_type": "markdown",
   "id": "9f34c567",
   "metadata": {},
   "source": [
    "### Exercise 2\n",
    "\n",
    "- Monte Carlo methods are a broad class of computational algorithms that rely on repeated random sampling to obtain numerical results. \n",
    "- One of the basic examples of getting started with the Monte Carlo algorithm is the estimation of Pi.\n",
    "\n",
    "**Estimation of Pi**\n",
    "\n",
    "- The idea is to simulate random (x, y) points in a 2-D plane with domain as a square of side 1 unit. \n",
    "- Imagine a circle inside the same domain with same diameter and inscribed into the square. \n",
    "- We then calculate the ratio of number points that lied inside the circle and total number of generated points. \n",
    "- Refer to the image below:\n",
    "\n",
    "![demo](../data/MonteCarloPlot.png)\n",
    "\n",
    "We know that area of the square is 1 unit sq while that of circle is $\\pi \\ast  (\\frac{1}{2})^{2} = \\frac{\\pi}{4}$. Now for a very large number of generated points,\n",
    "\n",
    "![demo](../data/MonteCarloCalc.png)\n",
    "\n",
    "\n",
    "## The Algorithm\n",
    "\n",
    "1. Initialize cile_points, square_points and interval to 0.\n",
    "2. Generate random point x.\n",
    "3. Generate random point y.\n",
    "4. Calculate d = x*x + y*y.\n",
    "5. If d <= 1, increment circle_points.\n",
    "6. Increment square_points.\n",
    "7. Increment interval.\n",
    "8. If increment < NO_OF_ITERATIONS, repeat from 2.\n",
    "9. Calculate pi = 4*(circle_points/square_points).\n",
    "10. Terminate."
   ]
  },
  {
   "cell_type": "markdown",
   "id": "b30e8d54",
   "metadata": {},
   "source": [
    "**Your mission:** time the function `monte_carlo_pi`, identify the bottlenecks and create a new version using cython functionality to speed up monte carlo simulation for PI, use 100,000 points and compare the speed up factor between python and cython, considering the following optimizations:\n",
    "- add type for variables used.\n",
    "- add type for the function\n",
    "- use c rand function instead of python rand function.\n",
    " \n",
    "*Hint: you can import function from C libraries using the following approach `from libc.<name of c library> cimport <library function name>`, replace the holders `<>` with the right identities for the current problem*"
   ]
  },
  {
   "cell_type": "code",
   "execution_count": 60,
   "id": "389b89c4",
   "metadata": {},
   "outputs": [],
   "source": [
    "import random\n",
    "def monte_carlo_pi(nsamples):\n",
    "    pi = 0.\n",
    "    circle_points = 0\n",
    "    square_points = 0\n",
    "    \n",
    "    for i in range(nsamples):\n",
    "        \n",
    "        rand_x = random.uniform(-1, 1)\n",
    "        rand_y = random.uniform(-1, 1)\n",
    " \n",
    "        origin_dist = rand_x**2 + rand_y**2\n",
    " \n",
    "   \n",
    "        if origin_dist <= 1:\n",
    "            circle_points += 1\n",
    " \n",
    "        square_points += 1\n",
    "        pi = 4 * circle_points / square_points\n",
    "    \n",
    "    return pi"
   ]
  },
  {
   "cell_type": "code",
   "execution_count": 65,
   "id": "b5a48ca2",
   "metadata": {},
   "outputs": [
    {
     "name": "stdout",
     "output_type": "stream",
     "text": [
      "CPU times: user 100 ms, sys: 0 ns, total: 100 ms\n",
      "Wall time: 98.8 ms\n"
     ]
    },
    {
     "data": {
      "text/plain": [
       "3.13592"
      ]
     },
     "execution_count": 65,
     "metadata": {},
     "output_type": "execute_result"
    }
   ],
   "source": [
    "%time monte_carlo_pi(100000)"
   ]
  },
  {
   "cell_type": "code",
   "execution_count": 64,
   "id": "cdc81d68",
   "metadata": {},
   "outputs": [],
   "source": [
    "%lprun -f monte_carlo_pi monte_carlo_pi(100000)"
   ]
  },
  {
   "cell_type": "code",
   "execution_count": null,
   "id": "7a7539d1",
   "metadata": {},
   "outputs": [],
   "source": []
  },
  {
   "cell_type": "code",
   "execution_count": 111,
   "id": "7f13cfae",
   "metadata": {},
   "outputs": [],
   "source": [
    "%%cython\n",
    "from libc.stdlib cimport rand,RAND_MAX\n",
    "\n",
    "cpdef double monte_carlo_pi_cy(nsamples):\n",
    "    cdef double pi = 0.\n",
    "    cdef double circle_points = 0\n",
    "    cdef double square_points = 0\n",
    "    \n",
    "    for i in range(nsamples):\n",
    "        \n",
    "        rand_x = rand() / (RAND_MAX)\n",
    "        rand_y = rand() / (RAND_MAX)\n",
    " \n",
    "        origin_dist = rand_x**2 + rand_y**2\n",
    " \n",
    "   \n",
    "        if origin_dist <= 1:\n",
    "            circle_points += 1\n",
    " \n",
    "        square_points += 1\n",
    "        pi = 4 * circle_points / square_points\n",
    "    \n",
    "    return pi"
   ]
  },
  {
   "cell_type": "code",
   "execution_count": 113,
   "id": "27056af7",
   "metadata": {},
   "outputs": [
    {
     "name": "stdout",
     "output_type": "stream",
     "text": [
      "CPU times: user 75.9 ms, sys: 7.41 ms, total: 83.3 ms\n",
      "Wall time: 86.2 ms\n",
      "CPU times: user 4.14 ms, sys: 0 ns, total: 4.14 ms\n",
      "Wall time: 4.14 ms\n"
     ]
    },
    {
     "data": {
      "text/plain": [
       "3.13764"
      ]
     },
     "execution_count": 113,
     "metadata": {},
     "output_type": "execute_result"
    }
   ],
   "source": [
    "%time monte_carlo_pi(100000)\n",
    "%time monte_carlo_pi_cy(100000)"
   ]
  },
  {
   "cell_type": "markdown",
   "id": "a6398e31",
   "metadata": {},
   "source": [
    "## Numba exercises"
   ]
  },
  {
   "cell_type": "markdown",
   "id": "dce9991f",
   "metadata": {},
   "source": [
    "### Exercise 1\n",
    "\n",
    "Previously we considered how to approximateby Monte Carlo.\n",
    "\n",
    "- Use the same idea here, but make the code efficient using Numba.\n",
    "- Compare speed with and without Numba when the sample size is large."
   ]
  },
  {
   "cell_type": "code",
   "execution_count": 118,
   "id": "ab04602a",
   "metadata": {},
   "outputs": [],
   "source": [
    "from numba import njit\n",
    "\n",
    "@njit\n",
    "def monte_carlo_pi_with_numba(nsamples):\n",
    "    pi = 0.\n",
    "    circle_points = 0\n",
    "    square_points = 0\n",
    "    \n",
    "    for i in range(nsamples):\n",
    "        \n",
    "        rand_x = random.uniform(-1, 1)\n",
    "        rand_y = random.uniform(-1, 1)\n",
    " \n",
    "        origin_dist = rand_x**2 + rand_y**2\n",
    " \n",
    "   \n",
    "        if origin_dist <= 1:\n",
    "            circle_points += 1\n",
    " \n",
    "        square_points += 1\n",
    "        pi = 4 * circle_points / square_points\n",
    "    \n",
    "    return pi"
   ]
  },
  {
   "cell_type": "code",
   "execution_count": 121,
   "id": "1cfaac55",
   "metadata": {},
   "outputs": [
    {
     "name": "stdout",
     "output_type": "stream",
     "text": [
      "CPU times: user 1.85 ms, sys: 171 µs, total: 2.02 ms\n",
      "Wall time: 2.03 ms\n",
      "CPU times: user 90.3 ms, sys: 0 ns, total: 90.3 ms\n",
      "Wall time: 89.5 ms\n"
     ]
    },
    {
     "data": {
      "text/plain": [
       "3.1442"
      ]
     },
     "execution_count": 121,
     "metadata": {},
     "output_type": "execute_result"
    }
   ],
   "source": [
    "%time monte_carlo_pi_with_numba(100000)\n",
    "%time monte_carlo_pi(100000)"
   ]
  },
  {
   "cell_type": "markdown",
   "id": "acbb7f84",
   "metadata": {},
   "source": [
    "### Exercise 2 optional\n",
    "\n",
    "In the [Introduction to Quantitative Economics](https://python.quantecon.org/intro.html) with Python lecture series you can learn all about finite-state Markov chains.\n",
    "\n",
    "For now, let's just concentrate on simulating a very simple example of such a chain.\n",
    "\n",
    "Suppose that the volatility of returns on an asset can be in one of two regimes — high or low.\n",
    "\n",
    "The transition probabilities across states are as follows ![markov](../data/markov.png)\n",
    "\n",
    "For example, let the period length be one day, and suppose the current state is high.\n",
    "\n",
    "We see from the graph that the state tomorrow will be\n",
    "\n",
    "- high with probability 0.8\n",
    "\n",
    "- low with probability 0.2\n",
    "\n",
    "Your task is to simulate a sequence of daily volatility states according to this rule.\n",
    "\n",
    "Set the length of the sequence to `n = 1_000_000` and start in the high state.\n",
    "\n",
    "Implement a pure Python version and a Numba version, and compare speeds.\n",
    "\n",
    "To test your code, evaluate the fraction of time that the chain spends in the low state.\n",
    "\n",
    "If your code is correct, it should be about 2/3.\n",
    "\n",
    "Hints:\n",
    "\n",
    "- Represent the low state as 0 and the high state as 1.\n",
    "\n",
    "- If you want to store integers in a NumPy array and then apply JIT compilation, use `x = np.empty(n, dtype=np.int_)`.\n"
   ]
  }
 ],
 "metadata": {
  "hide_input": false,
  "kernelspec": {
   "display_name": "Python 3 (ipykernel)",
   "language": "python",
   "name": "python3"
  },
  "language_info": {
   "codemirror_mode": {
    "name": "ipython",
    "version": 3
   },
   "file_extension": ".py",
   "mimetype": "text/x-python",
   "name": "python",
   "nbconvert_exporter": "python",
   "pygments_lexer": "ipython3",
   "version": "3.9.13"
  }
 },
 "nbformat": 4,
 "nbformat_minor": 5
}
